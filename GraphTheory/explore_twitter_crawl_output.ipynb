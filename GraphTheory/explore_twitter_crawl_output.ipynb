{
 "metadata": {
  "name": "",
  "signature": "sha256:ba55880ce2dff0381980aa3d893de7794700b21bdd53e449eecfd105d4b3e839"
 },
 "nbformat": 3,
 "nbformat_minor": 0,
 "worksheets": [
  {
   "cells": [
    {
     "cell_type": "markdown",
     "metadata": {},
     "source": [
      "Setup ..."
     ]
    },
    {
     "cell_type": "code",
     "collapsed": false,
     "input": [
      "import random\n",
      "import matplotlib.pyplot as plt\n",
      "from helpers import *\n",
      "import numpy as np\n",
      "from itertools import chain\n",
      "import pandas as pd\n",
      "\n",
      "object_dir = 'twitter_objects'"
     ],
     "language": "python",
     "metadata": {},
     "outputs": [],
     "prompt_number": 1
    },
    {
     "cell_type": "markdown",
     "metadata": {},
     "source": [
      "Use readobject to read in some of the objects saved in twitter_crawl"
     ]
    },
    {
     "cell_type": "code",
     "collapsed": false,
     "input": [
      "depth_stats = readobject('depth_stats', False, object_dir)\n",
      "depth_stats.keys()"
     ],
     "language": "python",
     "metadata": {},
     "outputs": [
      {
       "metadata": {},
       "output_type": "pyout",
       "prompt_number": 2,
       "text": [
        "['current', 1, 2, 'target']"
       ]
      }
     ],
     "prompt_number": 2
    },
    {
     "cell_type": "code",
     "collapsed": false,
     "input": [
      "print len(depth_stats[1])\n",
      "print len(depth_stats[2])"
     ],
     "language": "python",
     "metadata": {},
     "outputs": [
      {
       "output_type": "stream",
       "stream": "stdout",
       "text": [
        "0\n",
        "3185273\n"
       ]
      }
     ],
     "prompt_number": 3
    },
    {
     "cell_type": "code",
     "collapsed": false,
     "input": [
      "user_dict = readobject('user_dict', False, object_dir)\n",
      "len(user_dict.keys())"
     ],
     "language": "python",
     "metadata": {},
     "outputs": [
      {
       "metadata": {},
       "output_type": "pyout",
       "prompt_number": 4,
       "text": [
        "2589"
       ]
      }
     ],
     "prompt_number": 4
    },
    {
     "cell_type": "code",
     "collapsed": false,
     "input": [
      "# [index] = random.sample(xrange(len(user_dict.keys())), 1)\n",
      "# index\n",
      "index = 1022 # first generated randomly then hard coded for consistency"
     ],
     "language": "python",
     "metadata": {},
     "outputs": [],
     "prompt_number": 5
    },
    {
     "cell_type": "code",
     "collapsed": false,
     "input": [
      "uid = user_dict.keys()[index]\n",
      "user_dict[uid].keys()"
     ],
     "language": "python",
     "metadata": {},
     "outputs": [
      {
       "metadata": {},
       "output_type": "pyout",
       "prompt_number": 6,
       "text": [
        "['count', 'twit_ob']"
       ]
      }
     ],
     "prompt_number": 6
    },
    {
     "cell_type": "markdown",
     "metadata": {},
     "source": [
      "Let's take a look at the how often we come across the same user id"
     ]
    },
    {
     "cell_type": "code",
     "collapsed": false,
     "input": [
      "counts = [user_dict[k]['count'] for k in user_dict.keys()]\n",
      "max(counts)"
     ],
     "language": "python",
     "metadata": {},
     "outputs": [
      {
       "metadata": {},
       "output_type": "pyout",
       "prompt_number": 7,
       "text": [
        "5"
       ]
      }
     ],
     "prompt_number": 7
    },
    {
     "cell_type": "markdown",
     "metadata": {},
     "source": [
      "That doesn't look good. I would expect a lot higher number"
     ]
    },
    {
     "cell_type": "code",
     "collapsed": false,
     "input": [
      "fig, ax = plt.subplots()\n",
      "ax.scatter(range(len(user_dict.keys())), counts)"
     ],
     "language": "python",
     "metadata": {},
     "outputs": [
      {
       "metadata": {},
       "output_type": "pyout",
       "prompt_number": 8,
       "text": [
        "<matplotlib.collections.PathCollection at 0x19fddda0>"
       ]
      },
      {
       "metadata": {},
       "output_type": "display_data",
       "png": "[encoded data removed]",
       "text": [
        "<matplotlib.figure.Figure at 0x19fb04a8>"
       ]
      }
     ],
     "prompt_number": 8
    },
    {
     "cell_type": "code",
     "collapsed": false,
     "input": [
      "counts_unique, counts_freq = np.unique(np.asarray(counts), return_counts=True)\n",
      "print zip(counts_unique, counts_freq)"
     ],
     "language": "python",
     "metadata": {},
     "outputs": [
      {
       "output_type": "stream",
       "stream": "stdout",
       "text": [
        "[(1, 2268), (2, 235), (3, 61), (4, 21), (5, 4)]\n"
       ]
      }
     ],
     "prompt_number": 9
    },
    {
     "cell_type": "markdown",
     "metadata": {},
     "source": [
      "These numbers seem pretty low. I'm not sure why.\n",
      "\n",
      "Let's take a look at the ds_community object"
     ]
    },
    {
     "cell_type": "code",
     "collapsed": false,
     "input": [
      "ds_community = readobject('ds_community', False, object_dir)"
     ],
     "language": "python",
     "metadata": {},
     "outputs": [],
     "prompt_number": 10
    },
    {
     "cell_type": "code",
     "collapsed": false,
     "input": [
      "user_dict[uid]['twit_ob'].name"
     ],
     "language": "python",
     "metadata": {},
     "outputs": [
      {
       "metadata": {},
       "output_type": "pyout",
       "prompt_number": 11,
       "text": [
        "u'David Ascher'"
       ]
      }
     ],
     "prompt_number": 11
    },
    {
     "cell_type": "markdown",
     "metadata": {},
     "source": [
      "Just for reference:  \n",
      "David Ascher is a VP at Mozilla\n",
      "\n",
      "(from twitter)  \n",
      "Mayank Bawa  # he was coming up before David Ascher  \n",
      "@MayankBawa  \n",
      "\n",
      "President of Teradata Aster R&D Labs; co-founder of aster data systems; big data technologist; voracious reader; angel investor\n",
      "\n",
      "Looks like this guy is a legitimate memeber of the ds community ..."
     ]
    },
    {
     "cell_type": "code",
     "collapsed": false,
     "input": [
      "ds_community[uid].keys()\n",
      "print ds_community[uid]['count']\n",
      "print len(ds_community[uid]['follows'])\n"
     ],
     "language": "python",
     "metadata": {},
     "outputs": [
      {
       "output_type": "stream",
       "stream": "stdout",
       "text": [
        "1\n",
        "1143\n"
       ]
      }
     ],
     "prompt_number": 12
    },
    {
     "cell_type": "code",
     "collapsed": false,
     "input": [
      "sum([len(ds_community[i]['follows']) for i in ds_community.keys()])"
     ],
     "language": "python",
     "metadata": {},
     "outputs": [
      {
       "metadata": {},
       "output_type": "pyout",
       "prompt_number": 13,
       "text": [
        "2716816"
       ]
      }
     ],
     "prompt_number": 13
    },
    {
     "cell_type": "code",
     "collapsed": false,
     "input": [
      "# What about the counts in ds_community?\n",
      "ds_counts = [ds_community[k]['count'] for k in user_dict.keys()]\n",
      "max(ds_counts)"
     ],
     "language": "python",
     "metadata": {},
     "outputs": [
      {
       "metadata": {},
       "output_type": "pyout",
       "prompt_number": 14,
       "text": [
        "5"
       ]
      }
     ],
     "prompt_number": 14
    },
    {
     "cell_type": "code",
     "collapsed": false,
     "input": [
      "fig, ax = plt.subplots()\n",
      "ax.scatter(range(len(ds_counts)), ds_counts)"
     ],
     "language": "python",
     "metadata": {},
     "outputs": [
      {
       "metadata": {},
       "output_type": "pyout",
       "prompt_number": 15,
       "text": [
        "<matplotlib.collections.PathCollection at 0x21a1e080>"
       ]
      },
      {
       "metadata": {},
       "output_type": "display_data",
       "png": "[encoded data removed]",
       "text": [
        "<matplotlib.figure.Figure at 0x1a0cab00>"
       ]
      }
     ],
     "prompt_number": 15
    },
    {
     "cell_type": "code",
     "collapsed": false,
     "input": [
      "ds_counts_unique, ds_counts_freq = np.unique(np.asarray(ds_counts), return_counts=True)\n",
      "print zip(ds_counts_unique, ds_counts_freq)"
     ],
     "language": "python",
     "metadata": {},
     "outputs": [
      {
       "output_type": "stream",
       "stream": "stdout",
       "text": [
        "[(1, 2268), (2, 235), (3, 61), (4, 21), (5, 4)]\n"
       ]
      }
     ],
     "prompt_number": 16
    },
    {
     "cell_type": "markdown",
     "metadata": {},
     "source": [
      "Exactly the same as the user_dict"
     ]
    },
    {
     "cell_type": "markdown",
     "metadata": {},
     "source": [
      "Let's see if we can confirm the sparcity when we look at ds_community"
     ]
    },
    {
     "cell_type": "code",
     "collapsed": false,
     "input": [
      "def filtered_list(target, dict):\n",
      "    return [i for i in dict.keys() if dict[i]['count'] == target]\n",
      "\n",
      "# Keys\n",
      "ds_flat = filtered_list(3, ds_community) * 3\n",
      "ds_flat.extend(filtered_list(2, ds_community) * 2)\n",
      "ds_flat.extend(filtered_list(1, ds_community))\n",
      "\n",
      "# Now add all the follows\n",
      "ds_flat.extend(list(chain(*[ds_community[i]['follows'] for i in ds_community.keys()])))\n",
      "ds_flat = np.array(ds_flat)\n",
      "unique, freq = np.unique(ds_flat, return_counts=True)\n",
      "df = pd.DataFrame({'id': unique, 'freq': freq})\n",
      "\n",
      "df.head()\n"
     ],
     "language": "python",
     "metadata": {},
     "outputs": [
      {
       "html": [
        "<div style=\"max-height:1000px;max-width:1500px;overflow:auto;\">\n",
        "<table border=\"1\" class=\"dataframe\">\n",
        "  <thead>\n",
        "    <tr style=\"text-align: right;\">\n",
        "      <th></th>\n",
        "      <th>freq</th>\n",
        "      <th>id</th>\n",
        "    </tr>\n",
        "  </thead>\n",
        "  <tbody>\n",
        "    <tr>\n",
        "      <th>0</th>\n",
        "      <td> 687</td>\n",
        "      <td> 12</td>\n",
        "    </tr>\n",
        "    <tr>\n",
        "      <th>1</th>\n",
        "      <td> 504</td>\n",
        "      <td> 13</td>\n",
        "    </tr>\n",
        "    <tr>\n",
        "      <th>2</th>\n",
        "      <td>  74</td>\n",
        "      <td> 14</td>\n",
        "    </tr>\n",
        "    <tr>\n",
        "      <th>3</th>\n",
        "      <td>  59</td>\n",
        "      <td> 15</td>\n",
        "    </tr>\n",
        "    <tr>\n",
        "      <th>4</th>\n",
        "      <td>  45</td>\n",
        "      <td> 16</td>\n",
        "    </tr>\n",
        "  </tbody>\n",
        "</table>\n",
        "</div>"
       ],
       "metadata": {},
       "output_type": "pyout",
       "prompt_number": 26,
       "text": [
        "   freq  id\n",
        "0   687  12\n",
        "1   504  13\n",
        "2    74  14\n",
        "3    59  15\n",
        "4    45  16"
       ]
      }
     ],
     "prompt_number": 26
    },
    {
     "cell_type": "code",
     "collapsed": false,
     "input": [
      "df.max()"
     ],
     "language": "python",
     "metadata": {},
     "outputs": [
      {
       "metadata": {},
       "output_type": "pyout",
       "prompt_number": 27,
       "text": [
        "freq                1380\n",
        "id      4503597479886592\n",
        "dtype: int64"
       ]
      }
     ],
     "prompt_number": 27
    },
    {
     "cell_type": "code",
     "collapsed": false,
     "input": [
      "user_dict[uid]['count']"
     ],
     "language": "python",
     "metadata": {},
     "outputs": [
      {
       "metadata": {},
       "output_type": "pyout",
       "prompt_number": 22,
       "text": [
        "1"
       ]
      }
     ],
     "prompt_number": 22
    },
    {
     "cell_type": "code",
     "collapsed": false,
     "input": [
      "%qtconsole"
     ],
     "language": "python",
     "metadata": {},
     "outputs": [],
     "prompt_number": 23
    }
   ],
   "metadata": {}
  }
 ]
}