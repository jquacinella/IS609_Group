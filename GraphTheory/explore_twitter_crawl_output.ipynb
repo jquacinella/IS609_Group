{
 "metadata": {
  "name": "",
  "signature": "sha256:0d1162d576a51ce4f80c13cf01d76733fed8c000ddbd523f4548de242e076503"
 },
 "nbformat": 3,
 "nbformat_minor": 0,
 "worksheets": [
  {
   "cells": [
    {
     "cell_type": "markdown",
     "metadata": {},
     "source": [
      "Setup ..."
     ]
    },
    {
     "cell_type": "code",
     "collapsed": false,
     "input": [
      "import random\n",
      "import matplotlib.pyplot as plt\n",
      "from helpers import *\n",
      "\n",
      "object_dir = 'twitter_objects'"
     ],
     "language": "python",
     "metadata": {},
     "outputs": [],
     "prompt_number": 1
    },
    {
     "cell_type": "markdown",
     "metadata": {},
     "source": [
      "Use readobject to read in some of the objects saved in twitter_crawl"
     ]
    },
    {
     "cell_type": "code",
     "collapsed": false,
     "input": [
      "depth_stats = readobject('depth_stats', False, object_dir)\n",
      "depth_stats.keys()"
     ],
     "language": "python",
     "metadata": {},
     "outputs": [
      {
       "metadata": {},
       "output_type": "pyout",
       "prompt_number": 2,
       "text": [
        "['current', 1, 'target']"
       ]
      }
     ],
     "prompt_number": 2
    },
    {
     "cell_type": "code",
     "collapsed": false,
     "input": [
      "len(depth_stats[1])"
     ],
     "language": "python",
     "metadata": {},
     "outputs": [
      {
       "metadata": {},
       "output_type": "pyout",
       "prompt_number": 3,
       "text": [
        "3068"
       ]
      }
     ],
     "prompt_number": 3
    },
    {
     "cell_type": "code",
     "collapsed": false,
     "input": [
      "user_dict = readobject('user_dict', False, object_dir)\n",
      "len(user_dict.keys())"
     ],
     "language": "python",
     "metadata": {},
     "outputs": [
      {
       "metadata": {},
       "output_type": "pyout",
       "prompt_number": 4,
       "text": [
        "1488"
       ]
      }
     ],
     "prompt_number": 4
    },
    {
     "cell_type": "code",
     "collapsed": false,
     "input": [
      "# [index] = random.sample(xrange(len(user_dict.keys())), 1)\n",
      "# index\n",
      "index = 1022 # first generated randomly then hard coded for consistency"
     ],
     "language": "python",
     "metadata": {},
     "outputs": [],
     "prompt_number": 5
    },
    {
     "cell_type": "code",
     "collapsed": false,
     "input": [
      "uid = user_dict.keys()[index]\n",
      "user_dict[uid].keys()"
     ],
     "language": "python",
     "metadata": {},
     "outputs": [
      {
       "metadata": {},
       "output_type": "pyout",
       "prompt_number": 6,
       "text": [
        "['count', 'twit_ob']"
       ]
      }
     ],
     "prompt_number": 6
    },
    {
     "cell_type": "markdown",
     "metadata": {},
     "source": [
      "Let's take a look at the how often we come across the same user id"
     ]
    },
    {
     "cell_type": "code",
     "collapsed": false,
     "input": [
      "counts = [user_dict[k]['count'] for k in user_dict.keys()]\n",
      "max(counts)"
     ],
     "language": "python",
     "metadata": {},
     "outputs": [
      {
       "metadata": {},
       "output_type": "pyout",
       "prompt_number": 7,
       "text": [
        "3"
       ]
      }
     ],
     "prompt_number": 7
    },
    {
     "cell_type": "markdown",
     "metadata": {},
     "source": [
      "That doesn't look good. I would expect a lot higher number"
     ]
    },
    {
     "cell_type": "code",
     "collapsed": false,
     "input": [
      "fig, ax = plt.subplots()\n",
      "ax.scatter(range(len(user_dict.keys())), counts)"
     ],
     "language": "python",
     "metadata": {},
     "outputs": [
      {
       "metadata": {},
       "output_type": "pyout",
       "prompt_number": 8,
       "text": [
        "<matplotlib.collections.PathCollection at 0xcd53ba8>"
       ]
      },
      {
       "metadata": {},
       "output_type": "display_data",
       "png": "[encoded data removed]",
       "text": [
        "<matplotlib.figure.Figure at 0x9667c50>"
       ]
      }
     ],
     "prompt_number": 8
    },
    {
     "cell_type": "code",
     "collapsed": false,
     "input": [
      "def count_num(list_to_count, target):\n",
      "    return len([i for i in list_to_count if i == target])\n",
      "print count_num(counts, 3)\n",
      "print count_num(counts, 2)\n",
      "print count_num(counts, 1)"
     ],
     "language": "python",
     "metadata": {},
     "outputs": [
      {
       "output_type": "stream",
       "stream": "stdout",
       "text": [
        "5\n",
        "54\n",
        "1429\n"
       ]
      }
     ],
     "prompt_number": 9
    },
    {
     "cell_type": "markdown",
     "metadata": {},
     "source": [
      "These numbers seem pretty low. I'm not sure why.\n",
      "\n",
      "Let's take a look at the ds_community object"
     ]
    },
    {
     "cell_type": "code",
     "collapsed": false,
     "input": [
      "ds_community = readobject('ds_community', False, object_dir)"
     ],
     "language": "python",
     "metadata": {},
     "outputs": [],
     "prompt_number": 10
    },
    {
     "cell_type": "code",
     "collapsed": false,
     "input": [
      "user_dict[uid]['twit_ob'].name"
     ],
     "language": "python",
     "metadata": {},
     "outputs": [
      {
       "metadata": {},
       "output_type": "pyout",
       "prompt_number": 11,
       "text": [
        "u'Cameron Marlow'"
       ]
      }
     ],
     "prompt_number": 11
    },
    {
     "cell_type": "markdown",
     "metadata": {},
     "source": [
      "Just for reference:  \n",
      "(from twitter)  \n",
      "Mayank Bawa  \n",
      "@MayankBawa  \n",
      "\n",
      "President of Teradata Aster R&D Labs; co-founder of aster data systems; big data technologist; voracious reader; angel investor\n",
      "\n",
      "Looks like this guy is a legitimate memeber of the ds community ..."
     ]
    },
    {
     "cell_type": "code",
     "collapsed": false,
     "input": [
      "ds_community[uid].keys()\n",
      "print ds_community[uid]['count']\n",
      "print len(ds_community[uid]['follows'])\n"
     ],
     "language": "python",
     "metadata": {},
     "outputs": [
      {
       "output_type": "stream",
       "stream": "stdout",
       "text": [
        "1\n",
        "347\n"
       ]
      }
     ],
     "prompt_number": 18
    },
    {
     "cell_type": "code",
     "collapsed": false,
     "input": [
      "sum([len(ds_community[i]['follows']) for i in ds_community.keys()])"
     ],
     "language": "python",
     "metadata": {},
     "outputs": [
      {
       "metadata": {},
       "output_type": "pyout",
       "prompt_number": 13,
       "text": [
        "1765422"
       ]
      }
     ],
     "prompt_number": 13
    },
    {
     "cell_type": "code",
     "collapsed": false,
     "input": [
      "# What about the counts in ds_community?\n",
      "ds_counts = [ds_community[k]['count'] for k in user_dict.keys()]\n",
      "max(ds_counts)"
     ],
     "language": "python",
     "metadata": {},
     "outputs": [
      {
       "metadata": {},
       "output_type": "pyout",
       "prompt_number": 14,
       "text": [
        "3"
       ]
      }
     ],
     "prompt_number": 14
    },
    {
     "cell_type": "code",
     "collapsed": false,
     "input": [
      "fig, ax = plt.subplots()\n",
      "ax.scatter(range(len(ds_counts)), ds_counts)"
     ],
     "language": "python",
     "metadata": {},
     "outputs": [
      {
       "metadata": {},
       "output_type": "pyout",
       "prompt_number": 15,
       "text": [
        "<matplotlib.collections.PathCollection at 0x10dd7198>"
       ]
      },
      {
       "metadata": {},
       "output_type": "display_data",
       "png": "[encoded data removed]",
       "text": [
        "<matplotlib.figure.Figure at 0xcd6c550>"
       ]
      }
     ],
     "prompt_number": 15
    },
    {
     "cell_type": "code",
     "collapsed": false,
     "input": [
      "print count_num(ds_counts, 3)\n",
      "print count_num(ds_counts, 2)\n",
      "print count_num(ds_counts, 1)"
     ],
     "language": "python",
     "metadata": {},
     "outputs": [
      {
       "output_type": "stream",
       "stream": "stdout",
       "text": [
        "5\n",
        "54\n",
        "1429\n"
       ]
      }
     ],
     "prompt_number": 16
    },
    {
     "cell_type": "markdown",
     "metadata": {},
     "source": [
      "Exactly the same as the user_dict"
     ]
    },
    {
     "cell_type": "markdown",
     "metadata": {},
     "source": [
      "Let's see if we can confirm the sparcity when we look at ds_community"
     ]
    },
    {
     "cell_type": "code",
     "collapsed": false,
     "input": [
      "import numpy as np\n",
      "from itertools import chain\n",
      "import pandas as pd\n",
      "\n",
      "def filtered_list(target, dict):\n",
      "    return [i for i in dict.keys() if dict[i]['count'] == target]\n",
      "\n",
      "# Keys\n",
      "ds_flat = filtered_list(3, ds_community) * 3\n",
      "ds_flat.extend(filtered_list(2, ds_community) * 2)\n",
      "ds_flat.extend(filtered_list(1, ds_community))\n",
      "\n",
      "# Now add all the follows\n",
      "ds_flat.extend(list(chain(*[ds_community[i]['follows'] for i in ds_community.keys()])))\n",
      "ds_flat = np.array(ds_flat)\n",
      "unique, freq = np.unique(ds_flat, return_counts=True)\n",
      "df = pd.DataFrame({'id': unique, 'freq': freq})\n",
      "\n",
      "print max(np.asarray(df.freq))\n"
     ],
     "language": "python",
     "metadata": {},
     "outputs": [
      {
       "output_type": "stream",
       "stream": "stdout",
       "text": [
        "697\n"
       ]
      }
     ],
     "prompt_number": 24
    },
    {
     "cell_type": "code",
     "collapsed": false,
     "input": [
      "from itertools import chain\n",
      "\n",
      "d = {1:{'follows': [11, 21]}, 2:{'follows': [12, 22]}, 3:{'follows': [13, 23]}}\n",
      "x = d.keys()\n",
      "# x.extend([list(product(*d[i]['follows']))) for i in d.keys()])\n",
      "x.extend(list(chain(*[d[i]['follows'] for i in d.keys()])))\n",
      "x\n",
      "\n",
      "\n",
      "    "
     ],
     "language": "python",
     "metadata": {},
     "outputs": []
    },
    {
     "cell_type": "code",
     "collapsed": false,
     "input": [
      "user_dict[uid]['count']"
     ],
     "language": "python",
     "metadata": {},
     "outputs": []
    }
   ],
   "metadata": {}
  }
 ]
}