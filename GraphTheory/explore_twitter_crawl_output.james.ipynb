{
 "metadata": {
  "name": "",
  "signature": "sha256:63a64536029cec1daa600fa03a1ce919500dd69240b28602ad6186cd2d1a87f4"
 },
 "nbformat": 3,
 "nbformat_minor": 0,
 "worksheets": [
  {
   "cells": [
    {
     "cell_type": "markdown",
     "metadata": {},
     "source": [
      "Setup ..."
     ]
    },
    {
     "cell_type": "code",
     "collapsed": false,
     "input": [
      "import random\n",
      "import matplotlib.pyplot as plt\n",
      "from helpers import *\n",
      "import numpy as np\n",
      "from itertools import chain\n",
      "import pandas as pd\n",
      "\n",
      "object_dir = 'twitter_crawl_objects'"
     ],
     "language": "python",
     "metadata": {},
     "outputs": [],
     "prompt_number": 3
    },
    {
     "cell_type": "markdown",
     "metadata": {},
     "source": [
      "Use readobject to read in some of the objects saved in twitter_crawl"
     ]
    },
    {
     "cell_type": "code",
     "collapsed": false,
     "input": [
      "depth_stats = readobject('depth_stats', False, object_dir)\n",
      "depth_stats.keys()"
     ],
     "language": "python",
     "metadata": {},
     "outputs": [
      {
       "metadata": {},
       "output_type": "pyout",
       "prompt_number": 4,
       "text": [
        "['current', 1, 2, 'target']"
       ]
      }
     ],
     "prompt_number": 4
    },
    {
     "cell_type": "code",
     "collapsed": false,
     "input": [
      "print len(depth_stats[1])\n",
      "print len(depth_stats[2])"
     ],
     "language": "python",
     "metadata": {},
     "outputs": [
      {
       "output_type": "stream",
       "stream": "stdout",
       "text": [
        "0\n",
        "3185273\n"
       ]
      }
     ],
     "prompt_number": 5
    },
    {
     "cell_type": "code",
     "collapsed": false,
     "input": [
      "user_dict = readobject('user_name', False, object_dir)\n",
      "len(user_dict.keys())"
     ],
     "language": "python",
     "metadata": {},
     "outputs": [
      {
       "metadata": {},
       "output_type": "pyout",
       "prompt_number": 6,
       "text": [
        "3200"
       ]
      }
     ],
     "prompt_number": 6
    },
    {
     "cell_type": "code",
     "collapsed": false,
     "input": [
      "# [index] = random.sample(xrange(len(user_dict.keys())), 1)\n",
      "# index\n",
      "index = 1022 # first generated randomly then hard coded for consistency"
     ],
     "language": "python",
     "metadata": {},
     "outputs": [],
     "prompt_number": 7
    },
    {
     "cell_type": "code",
     "collapsed": false,
     "input": [
      "uid = user_dict.keys()[index]\n",
      "user_dict[uid].keys()"
     ],
     "language": "python",
     "metadata": {},
     "outputs": [
      {
       "metadata": {},
       "output_type": "pyout",
       "prompt_number": 8,
       "text": [
        "['count', 'name']"
       ]
      }
     ],
     "prompt_number": 8
    },
    {
     "cell_type": "markdown",
     "metadata": {},
     "source": [
      "Let's take a look at the how often we come across the same user id"
     ]
    },
    {
     "cell_type": "code",
     "collapsed": false,
     "input": [
      "counts = [user_dict[k]['count'] for k in user_dict.keys()]\n",
      "max(counts)"
     ],
     "language": "python",
     "metadata": {},
     "outputs": [
      {
       "metadata": {},
       "output_type": "pyout",
       "prompt_number": 9,
       "text": [
        "5"
       ]
      }
     ],
     "prompt_number": 9
    },
    {
     "cell_type": "markdown",
     "metadata": {},
     "source": [
      "That doesn't look good. I would expect a lot higher number"
     ]
    },
    {
     "cell_type": "code",
     "collapsed": false,
     "input": [
      "fig, ax = plt.subplots()\n",
      "ax.scatter(range(len(user_dict.keys())), counts)"
     ],
     "language": "python",
     "metadata": {},
     "outputs": [
      {
       "metadata": {},
       "output_type": "pyout",
       "prompt_number": 10,
       "text": [
        "<matplotlib.collections.PathCollection at 0x7fe43e2f9bd0>"
       ]
      },
      {
       "metadata": {},
       "output_type": "display_data",
       "png": "[encoded data removed]",
       "text": [
        "<matplotlib.figure.Figure at 0x7fe43e6ad510>"
       ]
      }
     ],
     "prompt_number": 10
    },
    {
     "cell_type": "code",
     "collapsed": false,
     "input": [
      "np.unique(np.asarray(counts), return_counts=True)"
     ],
     "language": "python",
     "metadata": {},
     "outputs": [
      {
       "metadata": {},
       "output_type": "pyout",
       "prompt_number": 12,
       "text": [
        "(array([1, 2, 3, 4, 5]), array([2874,  240,   61,   21,    4]))"
       ]
      }
     ],
     "prompt_number": 12
    },
    {
     "cell_type": "code",
     "collapsed": false,
     "input": [
      "counts_unique, counts_freq = np.unique(np.asarray(counts), return_counts=True)\n",
      "print zip(counts_unique, counts_freq)"
     ],
     "language": "python",
     "metadata": {},
     "outputs": [
      {
       "output_type": "stream",
       "stream": "stdout",
       "text": [
        "[(1, 2874), (2, 240), (3, 61), (4, 21), (5, 4)]\n"
       ]
      }
     ],
     "prompt_number": 13
    },
    {
     "cell_type": "markdown",
     "metadata": {},
     "source": [
      "These numbers seem pretty low. I'm not sure why.\n",
      "\n",
      "Let's take a look at the ds_community object"
     ]
    },
    {
     "cell_type": "code",
     "collapsed": false,
     "input": [
      "ds_community = readobject('ds_community', False, object_dir)"
     ],
     "language": "python",
     "metadata": {},
     "outputs": [],
     "prompt_number": 14
    },
    {
     "cell_type": "code",
     "collapsed": false,
     "input": [
      "user_dict[uid]['name']\n",
      "#user_dict[uid]['twit_ob'].name"
     ],
     "language": "python",
     "metadata": {},
     "outputs": [
      {
       "metadata": {},
       "output_type": "pyout",
       "prompt_number": 16,
       "text": [
        "u'Adrian Chen'"
       ]
      }
     ],
     "prompt_number": 16
    },
    {
     "cell_type": "markdown",
     "metadata": {},
     "source": [
      "Just for reference:  \n",
      "David Ascher is a VP at Mozilla\n",
      "\n",
      "(from twitter)  \n",
      "Mayank Bawa  # he was coming up before David Ascher  \n",
      "@MayankBawa  \n",
      "\n",
      "President of Teradata Aster R&D Labs; co-founder of aster data systems; big data technologist; voracious reader; angel investor\n",
      "\n",
      "Looks like this guy is a legitimate memeber of the ds community ..."
     ]
    },
    {
     "cell_type": "code",
     "collapsed": false,
     "input": [
      "ds_community[uid].keys()\n",
      "print ds_community[uid]['count']\n",
      "print len(ds_community[uid]['follows'])\n"
     ],
     "language": "python",
     "metadata": {},
     "outputs": [
      {
       "output_type": "stream",
       "stream": "stdout",
       "text": [
        "1\n",
        "2710\n"
       ]
      }
     ],
     "prompt_number": 17
    },
    {
     "cell_type": "code",
     "collapsed": false,
     "input": [
      "sum([len(ds_community[i]['follows']) for i in ds_community.keys()])"
     ],
     "language": "python",
     "metadata": {},
     "outputs": [
      {
       "metadata": {},
       "output_type": "pyout",
       "prompt_number": 18,
       "text": [
        "5511078"
       ]
      }
     ],
     "prompt_number": 18
    },
    {
     "cell_type": "code",
     "collapsed": false,
     "input": [
      "# What about the counts in ds_community?\n",
      "ds_counts = [ds_community[k]['count'] for k in user_dict.keys()]\n",
      "max(ds_counts)"
     ],
     "language": "python",
     "metadata": {},
     "outputs": [
      {
       "metadata": {},
       "output_type": "pyout",
       "prompt_number": 19,
       "text": [
        "5"
       ]
      }
     ],
     "prompt_number": 19
    },
    {
     "cell_type": "code",
     "collapsed": false,
     "input": [
      "fig, ax = plt.subplots()\n",
      "ax.scatter(range(len(ds_counts)), ds_counts)"
     ],
     "language": "python",
     "metadata": {},
     "outputs": [
      {
       "metadata": {},
       "output_type": "pyout",
       "prompt_number": 20,
       "text": [
        "<matplotlib.collections.PathCollection at 0x7fe436d59850>"
       ]
      },
      {
       "metadata": {},
       "output_type": "display_data",
       "png": "[encoded data removed]",
       "text": [
        "<matplotlib.figure.Figure at 0x7fe43e33a610>"
       ]
      }
     ],
     "prompt_number": 20
    },
    {
     "cell_type": "code",
     "collapsed": false,
     "input": [
      "ds_counts_unique, ds_counts_freq = np.unique(np.asarray(ds_counts), return_counts=True)\n",
      "print zip(ds_counts_unique, ds_counts_freq)"
     ],
     "language": "python",
     "metadata": {},
     "outputs": [
      {
       "output_type": "stream",
       "stream": "stdout",
       "text": [
        "[(1, 2874), (2, 240), (3, 61), (4, 21), (5, 4)]\n"
       ]
      }
     ],
     "prompt_number": 21
    },
    {
     "cell_type": "markdown",
     "metadata": {},
     "source": [
      "Exactly the same as the user_dict"
     ]
    },
    {
     "cell_type": "markdown",
     "metadata": {},
     "source": [
      "Let's see if we can confirm the sparcity when we look at ds_community"
     ]
    },
    {
     "cell_type": "code",
     "collapsed": false,
     "input": [
      "def filtered_list(target, dict):\n",
      "    return [i for i in dict.keys() if dict[i]['count'] == target]\n",
      "\n",
      "# Keys\n",
      "ds_flat = filtered_list(3, ds_community) * 3\n",
      "ds_flat.extend(filtered_list(2, ds_community) * 2)\n",
      "ds_flat.extend(filtered_list(1, ds_community))\n",
      "\n",
      "# Now add all the follows\n",
      "ds_flat.extend(list(chain(*[ds_community[i]['follows'] for i in ds_community.keys()])))\n",
      "ds_flat = np.array(ds_flat)\n",
      "unique, freq = np.unique(ds_flat, return_counts=True)\n",
      "df = pd.DataFrame({'id': unique, 'freq': freq})\n",
      "\n",
      "df.head()\n"
     ],
     "language": "python",
     "metadata": {},
     "outputs": [
      {
       "html": [
        "<div style=\"max-height:1000px;max-width:1500px;overflow:auto;\">\n",
        "<table border=\"1\" class=\"dataframe\">\n",
        "  <thead>\n",
        "    <tr style=\"text-align: right;\">\n",
        "      <th></th>\n",
        "      <th>freq</th>\n",
        "      <th>id</th>\n",
        "    </tr>\n",
        "  </thead>\n",
        "  <tbody>\n",
        "    <tr>\n",
        "      <th>0</th>\n",
        "      <td> 722</td>\n",
        "      <td> 12</td>\n",
        "    </tr>\n",
        "    <tr>\n",
        "      <th>1</th>\n",
        "      <td> 535</td>\n",
        "      <td> 13</td>\n",
        "    </tr>\n",
        "    <tr>\n",
        "      <th>2</th>\n",
        "      <td>  76</td>\n",
        "      <td> 14</td>\n",
        "    </tr>\n",
        "    <tr>\n",
        "      <th>3</th>\n",
        "      <td>  61</td>\n",
        "      <td> 15</td>\n",
        "    </tr>\n",
        "    <tr>\n",
        "      <th>4</th>\n",
        "      <td>  46</td>\n",
        "      <td> 16</td>\n",
        "    </tr>\n",
        "  </tbody>\n",
        "</table>\n",
        "</div>"
       ],
       "metadata": {},
       "output_type": "pyout",
       "prompt_number": 22,
       "text": [
        "   freq  id\n",
        "0   722  12\n",
        "1   535  13\n",
        "2    76  14\n",
        "3    61  15\n",
        "4    46  16"
       ]
      }
     ],
     "prompt_number": 22
    },
    {
     "cell_type": "code",
     "collapsed": false,
     "input": [
      "for row in df.sort('freq').tail(50).iterrows():\n",
      "    try:\n",
      "        print user_dict[row[1]['id']]\n",
      "    except:\n",
      "        print \"Skip %d\" % row[1]['id']"
     ],
     "language": "python",
     "metadata": {},
     "outputs": [
      {
       "output_type": "stream",
       "stream": "stdout",
       "text": [
        "{'count': 1, 'name': u'Lena Dunham'}\n",
        "{'count': 2, 'name': u'Hunter Walk'}\n",
        "Skip 1344951\n",
        "Skip 783214\n",
        "{'count': 1, 'name': u'Aaron Levie'}\n",
        "{'count': 1, 'name': u'Robert Scoble'}\n",
        "{'count': 1, 'name': u'Aziz Ansari'}\n",
        "Skip 14677919\n",
        "Skip 5988062\n",
        "{'count': 2, 'name': u'Vinod Khosla'}\n",
        "Skip 11388132\n",
        "{'count': 2, 'name': u'Joi Ito'}\n",
        "{'count': 1, 'name': u'Biz Stone'}\n",
        "{'count': 1, 'name': u'jimmy fallon'}\n",
        "Skip 93957809\n",
        "{'count': 1, 'name': u'Ben Horowitz'}\n",
        "{'count': 1, 'name': u'Steve Martin'}\n",
        "{'count': 2, 'name': u'Dave McClure'}\n",
        "{'count': 1, 'name': u'Chris Sacca'}\n",
        "{'count': 1, 'name': u'Caterina Fake'}\n",
        "{'count': 1, 'name': u'dick costolo'}\n",
        "{'count': 1, 'name': u'Sarah Silverman'}\n",
        "{'count': 2, 'name': u'danah boyd'}\n",
        "{'count': 2, 'name': u'Nick Bilton'}\n",
        "{'count': 1, 'name': u'Medium'}\n",
        "{'count': 2, 'name': u'Om Malik'}\n",
        "Skip 14075928\n",
        "{'count': 2, 'name': u'Kara Swisher'}\n",
        "{'count': 2, 'name': u'Neil deGrasse Tyson'}\n",
        "{'count': 2, 'name': u'Anil Dash'}\n",
        "{'count': 1, 'name': u'Paul Graham'}\n",
        "Skip 17503180\n",
        "{'count': 1, 'name': u'Jack'}\n",
        "{'count': 1, 'name': u'The New York Times'}\n",
        "Skip 16303106\n",
        "Skip 2529971\n",
        "{'count': 2, 'name': u'Clay Shirky'}\n",
        "{'count': 1, 'name': u'TechCrunch'}\n",
        "{'count': 3, 'name': u'Ev Williams'}\n",
        "Skip 50393960\n",
        "{'count': 1, 'name': u'Reid Hoffman'}\n",
        "{'count': 2, 'name': u'Elon Musk'}\n",
        "{'count': 1, 'name': u\"Conan O'Brien\"}\n",
        "{'count': 1, 'name': u'Marc Andreessen'}\n",
        "{'count': 3, 'name': u'dj patil'}\n",
        "Skip 813286\n",
        "{'count': 1, 'name': u'Fred Wilson'}\n",
        "{'count': 2, 'name': u'Nate Silver'}\n",
        "{'count': 3, 'name': u\"Tim O'Reilly\"}\n",
        "{'count': 5, 'name': u'Hilary Mason'}\n"
       ]
      }
     ],
     "prompt_number": 47
    },
    {
     "cell_type": "code",
     "collapsed": false,
     "input": [
      "df.max()"
     ],
     "language": "python",
     "metadata": {},
     "outputs": [
      {
       "metadata": {},
       "output_type": "pyout",
       "prompt_number": 23,
       "text": [
        "freq                1383\n",
        "id      4503597479886592\n",
        "dtype: int64"
       ]
      }
     ],
     "prompt_number": 23
    },
    {
     "cell_type": "code",
     "collapsed": false,
     "input": [
      "user_dict[uid]['count']"
     ],
     "language": "python",
     "metadata": {},
     "outputs": [
      {
       "metadata": {},
       "output_type": "pyout",
       "prompt_number": 24,
       "text": [
        "1"
       ]
      }
     ],
     "prompt_number": 24
    },
    {
     "cell_type": "code",
     "collapsed": false,
     "input": [
      "%qtconsole"
     ],
     "language": "python",
     "metadata": {},
     "outputs": [],
     "prompt_number": 22
    }
   ],
   "metadata": {}
  }
 ]
}